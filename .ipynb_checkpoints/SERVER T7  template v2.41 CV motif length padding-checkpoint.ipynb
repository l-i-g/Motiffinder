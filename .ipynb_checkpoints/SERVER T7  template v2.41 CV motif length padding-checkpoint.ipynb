{
 "cells": [
  {
   "cell_type": "code",
   "execution_count": null,
   "id": "ba3959eb",
   "metadata": {
    "ExecuteTime": {
     "end_time": "2023-07-13T09:05:11.756245Z",
     "start_time": "2023-07-13T09:04:43.067725Z"
    }
   },
   "outputs": [],
   "source": [
    "%matplotlib inline\n",
    "\n",
    "import pandas as pd\n",
    "import numpy as np\n",
    "import seaborn as sns\n",
    "import matplotlib.pyplot as plt\n",
    "from matplotlib import cm\n",
    "\n",
    "import ipyparallel as ipp\n",
    "\n",
    "from time import time\n",
    "from datetime import datetime\n",
    "\n",
    "import motif as mf\n",
    "\n",
    "from sklearn.model_selection import GridSearchCV, RandomizedSearchCV\n",
    "from sklearn.decomposition import PCA\n",
    "from sklearn.utils import shuffle\n",
    "from sklearn.metrics import mean_absolute_error\n",
    "from sklearn.metrics import roc_curve, roc_auc_score\n",
    "from sklearn.model_selection import train_test_split, cross_val_score, cross_validate\n",
    "\n",
    "from scipy.stats import spearmanr\n",
    "from scipy.stats import pearsonr"
   ]
  },
  {
   "cell_type": "code",
   "execution_count": null,
   "id": "ba02613c",
   "metadata": {
    "ExecuteTime": {
     "end_time": "2023-07-13T09:05:22.854099Z",
     "start_time": "2023-07-13T09:05:22.838255Z"
    }
   },
   "outputs": [],
   "source": [
    "### set parameters for the motif analysis\n",
    "\n",
    "PROTEIN_NAME='T7 primase'\n",
    "PROT_CONC=5 # free protein concentration at binding reation; PBM typically 0.1 and RNACompete typically 0.002\n",
    "BOTH_STRANDS=False # wheter both strands are present for binding; True if double-stranded DNA or RNA is used as probes\n",
    "TIME_DISS= 1800 # experimental time span after binding reaction during which dissociation of the protein from the probe was possible\n",
    "\n",
    "STAGES=mf.stage(protein=PROTEIN_NAME)"
   ]
  },
  {
   "cell_type": "code",
   "execution_count": null,
   "id": "c7cb0ca3",
   "metadata": {
    "ExecuteTime": {
     "end_time": "2023-07-13T09:05:25.785429Z",
     "start_time": "2023-07-13T09:05:25.691209Z"
    }
   },
   "outputs": [],
   "source": [
    "### read data\n",
    "\n",
    "dfprobes_raw=pd.read_csv('.data/T7/chip_B_favor.csv', sep=';')\n",
    "print('Columns of imported Data File: %s'%dfprobes_raw.columns)"
   ]
  },
  {
   "cell_type": "code",
   "execution_count": null,
   "id": "dca9deca",
   "metadata": {
    "ExecuteTime": {
     "end_time": "2023-07-13T09:05:45.888883Z",
     "start_time": "2023-07-13T09:05:44.923503Z"
    }
   },
   "outputs": [],
   "source": [
    "### select columns for probe sequence and signal\n",
    "\n",
    "column_sequence='seq'\n",
    "column_signal='prim_only_score'\n",
    "#background_signal='mean_background_intensity'\n",
    "background_signal=None                             #set to None if not needed\n",
    "\n",
    "#basic preprocessing\n",
    "dfprobes_raw[column_signal]=dfprobes_raw[column_signal].apply(lambda a: np.NaN if a==' ' else a)\n",
    "dfprobes_raw[column_sequence]=dfprobes_raw[column_sequence].apply(lambda a: np.NaN if a=='nan' else a)\n",
    "dfprobes_raw=dfprobes_raw.dropna()\n",
    "\n",
    "#construct new dataframe with only necessary data\n",
    "if type(background_signal)==type(None):\n",
    "    dfprobes=pd.DataFrame({'seq':dfprobes_raw[column_sequence].astype(str),\n",
    "                           'signal binding': dfprobes_raw[column_signal].astype(np.float32)}) #rebuild dataframe\n",
    "else:\n",
    "    dfprobes=pd.DataFrame({'seq':dfprobes_raw[column_sequence].astype(str),\n",
    "                           'signal': dfprobes_raw[column_signal].astype(np.float32), \n",
    "                           'background':dfprobes_raw[background_signal].astype(np.float32)}) #rebuild dataframe\n",
    "    dfprobes['signal binding']=dfprobes['signal']-dfprobes['background']\n",
    "# display main properties of data set\n",
    "\n",
    "dfprobes['signal binding']=dfprobes['signal binding']**2  # as raw data was squared\n",
    "\n",
    "dfprobes['signal binding'].plot(figsize=(15,5))\n",
    "dfprobes.describe()\n",
    "\n",
    "### check type of nucleic acid\n",
    "\n",
    "dfprobes['seq']=dfprobes['seq'].apply(lambda seq: seq.upper().replace(\" \", \"\"))  #upper and remove blanks\n",
    "dfprobes['RNA']=dfprobes['seq'].apply(lambda seq: all(char in 'ACGU' for char in seq))\n",
    "dfprobes['DNA']=dfprobes['seq'].apply(lambda seq: all(char in 'ACGT' for char in seq))\n",
    "non_RNA_counts=len(dfprobes[dfprobes['RNA']==False])\n",
    "non_DNA_counts=len(dfprobes[dfprobes['DNA']==False])\n",
    "\n",
    "if non_RNA_counts<non_DNA_counts:\n",
    "    NUC_TYPE='RNA'; print('I: RNA probes detected!')\n",
    "else: NUC_TYPE='DNA'; print('I: DNA probes detected!')\n",
    "    \n",
    "if NUC_TYPE=='RNA' and non_RNA_counts!=0:\n",
    "    print('E: The probe sequences appear to be RNA, however there are some non-RNA nucleotides in the sequences.')\n",
    "    print('E: Please check the following sequnces %s'%dfprobes[dfprobes['RNA']==False])\n",
    "\n",
    "if NUC_TYPE=='DNA' and non_DNA_counts!=0:\n",
    "    print('E: The probe sequences appear to be RNA, however there are some non-RNA nucleotides in the sequences.')\n",
    "    print('E: Please check the following sequnces %s'%dfprobes[dfprobes['DNA']==False])"
   ]
  },
  {
   "cell_type": "code",
   "execution_count": null,
   "id": "e717ca1a",
   "metadata": {
    "ExecuteTime": {
     "end_time": "2023-07-13T09:05:53.878748Z",
     "start_time": "2023-07-13T09:05:53.847760Z"
    }
   },
   "outputs": [],
   "source": [
    "### option to add a constant sequence at the 3' end and 5' end\n",
    "sequence_to_be_added_5='' \n",
    "sequence_to_be_added_3='GTCTTG'        # standard PBM arrays: CCTGTGTGAAATTGTTATCCGCTCT T7 array: GTCTTGA..\n",
    "dfprobes['seq']=sequence_to_be_added_5.upper()+dfprobes['seq']+sequence_to_be_added_3.upper()\n",
    "print(f\"I: The nucleotide sequences {sequence_to_be_added_5.upper()} has been added to the 5' end all probe sequences.\")\n",
    "print(f\"I: The nucleotide sequences {sequence_to_be_added_3.upper()} has been added to the 3' end all probe sequences.\")"
   ]
  },
  {
   "cell_type": "code",
   "execution_count": null,
   "id": "9beffcf9",
   "metadata": {
    "ExecuteTime": {
     "end_time": "2023-07-13T09:05:59.512554Z",
     "start_time": "2023-07-13T09:05:58.702422Z"
    }
   },
   "outputs": [],
   "source": [
    "### egalize length\n",
    "dfprobes['seq_length']=dfprobes['seq'].apply(len)    \n",
    "\n",
    "if max(dfprobes['seq_length'])!=min(dfprobes['seq_length']):\n",
    "    print('I: Probes length is not uniform, detected range: %i ..%i' %(min(dfprobes['seq_length']),max(dfprobes['seq_length'])))\n",
    "    max_length=max(dfprobes['seq_length'])\n",
    "    dfprobes['padded_sequence']=dfprobes['seq'].apply(lambda seq: seq+((max_length-len(seq))*'-'))\n",
    "    print(\"I: Probe sequences have been padded at the 5' to the uniform length of %i nucleotides\" %max_length)\n",
    "else:\n",
    "    print('I: Probe sequences have the uniform length of %i nucleotides' %(dfprobes['seq_length'].median()))\n",
    "    dfprobes['padded_sequence']=dfprobes['seq']\n",
    "\n",
    "print('I: Total datasets contains %i sequences.' % len(dfprobes))\n",
    "\n",
    "# visualize composition of each position\n",
    "df_nucleotides=mf.split_sequence_in_nucleotides(dfprobes['padded_sequence'])\n",
    "dfcount=pd.DataFrame(index=['A', 'C', 'G', 'T', 'U', '-'])\n",
    "for column in df_nucleotides:\n",
    "    dfcount[column]=df_nucleotides[column].value_counts() \n",
    "dfcount=dfcount.fillna(0) #zeros for NaN\n",
    "dfcount.transpose().plot(figsize=(15,5), kind='bar')\n",
    "print('I: Visualisation of the base composition per position')\n",
    "print('I: If positions are invariant they can be removed before sequence analysis.')"
   ]
  },
  {
   "cell_type": "code",
   "execution_count": null,
   "id": "6e27146e",
   "metadata": {
    "ExecuteTime": {
     "end_time": "2023-07-13T09:06:45.877359Z",
     "start_time": "2023-07-13T09:06:44.953961Z"
    }
   },
   "outputs": [],
   "source": [
    "# You may remove invariant continuos positions by adjusting the slicing. \n",
    "# It is recommended to leave a few invariant positions to allow for binding events\n",
    "# between the variable and constant part of the probes.\n",
    "\n",
    "dfprobes['padded_sequence']=dfprobes['padded_sequence'].apply(lambda s:s[:43]) ### <==== do the slicing here\n",
    "\n",
    "# visualize composition of each position\n",
    "print('I: Visualisation of the base composition per position after slicing.')\n",
    "df_nucleotides=mf.split_sequence_in_nucleotides(dfprobes['padded_sequence'])\n",
    "dfcount=pd.DataFrame(index=['A', 'C', 'G', 'T', 'U', '-'])\n",
    "for column in df_nucleotides:\n",
    "    dfcount[column]=df_nucleotides[column].value_counts() \n",
    "dfcount=dfcount.fillna(0) #zeros for NaN\n",
    "dfcount.transpose().plot(figsize=(15,5), kind='bar')\n",
    "plt.show()\n",
    "\n",
    "### Preparation for later classification\n",
    "mean=dfprobes['signal binding'].mean()\n",
    "std=dfprobes['signal binding'].std()\n",
    "THRESHOLD=mean+2*std   \n",
    "dfprobes['positive probe']=dfprobes['signal binding'].apply(lambda s: True if s>THRESHOLD else False)\n",
    "\n",
    "print('I: The whole dataset has been used to set the threshold for a positive probe.')\n",
    "print('T: The threshold is %f' %THRESHOLD)\n",
    "print(f\"I: {len(dfprobes[dfprobes['positive probe']])} probes of {len(dfprobes)} are above threshold.\")"
   ]
  },
  {
   "cell_type": "code",
   "execution_count": null,
   "id": "60eaef32",
   "metadata": {},
   "outputs": [],
   "source": [
    "### Shuffle and prepare dataset for training and testing\n",
    "\n",
    "# shuffle and split\n",
    "dfprobes = shuffle(dfprobes)\n",
    "dftrain, dftest = train_test_split(dfprobes, test_size=0.2)\n",
    "\n",
    "print(\n",
    "    'I: The whole dataset has been split in training (80%) and test (20%) datasets and with the threshold indicated.'\n",
    ")\n",
    "\n",
    "# display histogramms of test and training set\n",
    "dftrain['signal binding'].plot(kind='hist', bins=25).axvline(x=THRESHOLD, color='r', linestyle='-.', lw=0.5, label='threshold classification')\n",
    "dftest['signal binding'].plot(kind='hist', bins=25)\n",
    "plt.show()\n",
    "\n",
    "# complete data\n",
    "X=mf.hotencode_sequence(dfprobes['padded_sequence'], nuc_type=NUC_TYPE)\n",
    "y=np.array(dfprobes['signal binding'])\n",
    "\n",
    "# training set\n",
    "X_train=mf.hotencode_sequence(dftrain['padded_sequence'], nuc_type=NUC_TYPE)\n",
    "y_train=np.array(dftrain['signal binding'])\n",
    "\n",
    "# test set\n",
    "X_test=mf.hotencode_sequence(dftest['padded_sequence'], nuc_type=NUC_TYPE)\n",
    "y_test=np.array(dftest['signal binding'])"
   ]
  },
  {
   "cell_type": "code",
   "execution_count": null,
   "id": "8ff9d6a0",
   "metadata": {
    "ExecuteTime": {
     "end_time": "2023-07-13T09:07:33.320594Z",
     "start_time": "2023-07-13T09:07:05.228623Z"
    },
    "scrolled": false
   },
   "outputs": [],
   "source": [
    "### perform a single round of motif fitting on subset of training set to check data integrity\n",
    "\n",
    "\n",
    "#fit regression model\n",
    "quick_model=mf.findmotif(motif_length=3, protein_conc=PROT_CONC, both_strands=BOTH_STRANDS)\n",
    "\n",
    "start = time()\n",
    "quick_model.fit(X_train[:100],y_train[:100])\n",
    "print(\"I: Optimization took %.2f hours.\" % ((time() - start)/3600))\n",
    "\n",
    "# print & display main results\n",
    "quick_model.analyse_motif(X_train[:100],y_train[:100], THRESHOLD, nuc_type=NUC_TYPE)\n",
    "\n",
    "# store results and display stages\n",
    "STAGES.append('quick', quick_model)\n",
    "mf.display_df(STAGES.df, nuc_type=NUC_TYPE)"
   ]
  },
  {
   "cell_type": "code",
   "execution_count": null,
   "id": "2414bb05",
   "metadata": {
    "scrolled": false
   },
   "outputs": [],
   "source": [
    "#### Perfrom GridCV Search for exploration of the motif length and other model parameters \n",
    "# primary goal: identify the minimum motif length which gives a good r-value\n",
    "\n",
    "# optional: allow also for global optimization to verify whether the local optimization is good enough\n",
    "# optional: vary G0 to find a good regression model\n",
    "# optional: fitG0=True. This option adjust G0, so that maximal binding is around 1 (prevents saturation of probes by multiple binding events)\n",
    "\n",
    "\n",
    "model_grid=mf.findmotif(protein_conc=PROT_CONC, both_strands=BOTH_STRANDS, fit_G0=True)\n",
    "\n",
    "# prepare grid search over parameters\n",
    "param_grid = {\"motif_length\": [1,2,3,4,5,6],\n",
    "              \"weight_information\":[0],\n",
    "              \"weight_ratio\": [0]}     # choose sensible range for length of motif and other parameters\n",
    "\n",
    "# define custom refit function\n",
    "def custom_refit(cv_results):\n",
    "    \"\"\"returns index of max r2/sqrt(motif_length)\"\"\"\n",
    "    df_grid=pd.DataFrame(cv_results)\n",
    "    index=(df_grid['mean_test_score']/(df_grid['param_motif_length'].apply(float).apply(np.sqrt))).idxmax()\n",
    "    return index\n",
    "\n",
    "# run grid search and refit according to custom refit\n",
    "grid_search = GridSearchCV(model_grid, param_grid=param_grid, verbose=2, cv=5, refit=custom_refit, n_jobs=-1)\n",
    "\n",
    "start = time()\n",
    "grid_search.fit(X_train, y_train)\n",
    "df_grid=pd.DataFrame(grid_search.cv_results_)\n",
    "\n",
    "print(\"I: GridSearchCV took %.2f hours for %d candidate parameter settings.\"\n",
    "    % ((time() - start)/3600, len(grid_search.cv_results_[\"params\"])))\n",
    "print('I: number of samples: %i' %len(X_train))\n",
    "\n",
    "df_grid=pd.DataFrame(grid_search.cv_results_)\n",
    "print('I: Plot of r2 vs motif length and vs root(motif length)')\n",
    "df_grid.rename(columns={'mean_test_score':'r2'}, inplace=True)\n",
    "df_grid.plot(kind='scatter', x='param_motif_length', y='r2', yerr='std_test_score', figsize=(5,3)).set_xticks(param_grid[\"motif_length\"])\n",
    "df_grid['r2/sqrt(length)']=df_grid['r2']/(df_grid['param_motif_length'].apply(float).apply(np.sqrt))\n",
    "df_grid['std/sqrt(length)']=df_grid['std_test_score']/(df_grid['param_motif_length'].apply(float).apply(np.sqrt))\n",
    "df_grid.plot(kind='scatter', x='param_motif_length', y='r2/sqrt(length)',yerr='std/sqrt(length)', figsize=(5,3)).set_xticks(param_grid[\"motif_length\"])\n",
    "plt.show()\n",
    "\n",
    "best_index=df_grid['r2/sqrt(length)'].idxmax()\n",
    "CORE_MOTIF_LENGTH=df_grid.loc[best_index, 'param_motif_length']\n",
    "print(f'I: The maximum ({CORE_MOTIF_LENGTH}) is suggested as CORE_MOTIF_LENGTH')\n",
    "\n",
    "print('I: motif obtained with the best estimator from gridCV search')\n",
    "# print & display results from best estimator\n",
    "model_grid=grid_search.best_estimator_\n",
    "model_grid.analyse_motif(X_train,y_train, THRESHOLD, nuc_type=NUC_TYPE)\n",
    "\n",
    "# store results and display stages\n",
    "STAGES.append('best grid', model_grid)\n",
    "mf.display_df(STAGES.df, nuc_type=NUC_TYPE)\n"
   ]
  },
  {
   "cell_type": "code",
   "execution_count": null,
   "id": "cd99d978",
   "metadata": {},
   "outputs": [],
   "source": [
    "### run crossvalidation on complete training set\n",
    "model=mf.findmotif(motif_length=CORE_MOTIF_LENGTH, protein_conc=PROT_CONC, both_strands=BOTH_STRANDS, \n",
    "                   fit_G0=True)\n",
    "result_dict = cross_validate(model, X_train, y_train, cv=5, n_jobs=-1, verbose=10, return_train_score=True, return_estimator=True)\n",
    "result_df=pd.DataFrame(result_dict)\n",
    "\n",
    "result_df['energies']=result_df['estimator'].apply(lambda e: e.energies_)\n",
    "result_df['ratio']=result_df['estimator'].apply(lambda e: e.max_binding_fit/e.min_binding_fit)\n",
    "result_df['max binding']=result_df['estimator'].apply(lambda e: e.max_binding_fit)\n",
    "result_df['r2 hold out test']=result_df['estimator'].apply(lambda e: mf.linregress(e.predict(X_test),y_test).rvalue**2)\n",
    "result_df.sort_values('r2 hold out test', ascending=False, inplace=True)\n",
    "mf.display_df(result_df, nuc_type=NUC_TYPE)\n",
    "best_energies_cv_core_length=result_df.iloc[0].at['energies']\n",
    "mf.energies2energylogo(best_energies_cv_core_length, nuc_type=NUC_TYPE)"
   ]
  },
  {
   "cell_type": "code",
   "execution_count": null,
   "id": "71e3f739",
   "metadata": {
    "ExecuteTime": {
     "end_time": "2023-02-17T17:42:41.465656Z",
     "start_time": "2023-02-17T17:40:23.272665Z"
    },
    "scrolled": false
   },
   "outputs": [],
   "source": [
    "### run a number of identical optimizations with motif length found during grid search\n",
    "### goal: find best motif through repetition, judge stabiltiy of optimization\n",
    "\n",
    "#CORE_MOTIF_LENGTH=5  # adjust core motif length if needed, motif length can be changed later\n",
    "\n",
    "# prepare for ipyparallel\n",
    "number_of_optimizations = 20\n",
    "model_list = [mf.findmotif(motif_length=CORE_MOTIF_LENGTH, protein_conc=PROT_CONC, both_strands=BOTH_STRANDS, fit_G0=True)] * number_of_optimizations\n",
    "X_list = [X_train] * number_of_optimizations\n",
    "y_list = [y_train] * number_of_optimizations\n",
    "\n",
    "\n",
    "def single_job(model, X, y):\n",
    "    model.fit(X, y)\n",
    "    return {'model':model}\n",
    "\n",
    "# run the optimizations on ipp.cluster\n",
    "start = time()\n",
    "with ipp.Cluster(log_level=40) as rc:\n",
    "    rc[:].use_pickle()\n",
    "    view = rc.load_balanced_view()\n",
    "    asyncresult = view.map_async(single_job, model_list, X_list, y_list)\n",
    "    asyncresult.wait_interactive()\n",
    "    result = asyncresult.get()\n",
    "print(\"I: Optimization took %.2f hours.\" % ((time() - start) / 3600))\n",
    "\n",
    "\n",
    "  \n",
    "# assemble results and analyze\n",
    "df_repetitions=pd.DataFrame(result)\n",
    "df_repetitions['r (train)']=df_repetitions['model'].apply(lambda e: mf.linregress(e.predict(X_train),y_train).rvalue)\n",
    "df_repetitions['r (test)']=df_repetitions['model'].apply(lambda e: mf.linregress(e.predict(X_test),y_test).rvalue)\n",
    "df_repetitions['G0']=df_repetitions['model'].apply(lambda e: e.finalG0_)\n",
    "df_repetitions['max binding']=df_repetitions['model'].apply(lambda e: e.max_binding_fit)\n",
    "df_repetitions['min binding']=df_repetitions['model'].apply(lambda e: e.min_binding_fit)\n",
    "df_repetitions['ratio'] = df_repetitions['model'].apply(lambda e: e.ratio)\n",
    "df_repetitions['energies']=df_repetitions['model'].apply(lambda e: e.energies_)\n",
    "#df_repetitions['information']=df_repetitions['model'].apply(lambda e: mf.energies2information(e.energies_))\n",
    "\n",
    "\n",
    "# display results of the ensemble of optimizations\n",
    "print('I: Results of the repeated motif finding, sorted according to the regression coefficient with the train dataset')\n",
    "df_repetitions.sort_values('r (train)', ascending=False, inplace=True)\n",
    "mf.display_df(df_repetitions, nuc_type=NUC_TYPE)"
   ]
  },
  {
   "cell_type": "code",
   "execution_count": null,
   "id": "3e794e48",
   "metadata": {
    "ExecuteTime": {
     "end_time": "2023-01-16T18:06:48.921307Z",
     "start_time": "2023-01-16T18:06:48.474189Z"
    },
    "scrolled": false
   },
   "outputs": [],
   "source": [
    "### compare energy matrices of ensemble using PCA\n",
    "print('I: Histogram of the regression coefficients r obtained by repeated optimizaion with the subset.')\n",
    "df_repetitions['r (train)'].plot(kind='hist')\n",
    "plt.show()\n",
    "\n",
    "pca = PCA(n_components=2)\n",
    "pca_2c=pca.fit_transform(df_repetitions['energies'].tolist())    \n",
    "df_repetitions[['PCA1', 'PCA2']]=pca_2c\n",
    "print('I: 2-dimensional PCA explained %i %% of variance.' %(sum(pca.explained_variance_ratio_)*100))\n",
    "if sum(pca.explained_variance_ratio_)<0.5:\n",
    "      print('W: 2-dimensional PCA explained only %i %% of variance' %(sum(pca.explained_variance_ratio_)*100))\n",
    "\n",
    "print('I: Visualization of the PCA with the regression quality vs. subset and training dataset by color.')        \n",
    "df_repetitions.plot(x='PCA1', y='PCA2', kind='scatter', c='r (train)',cmap=cm.coolwarm, edgecolors='black', linewidths=0.3)\n",
    "df_repetitions.plot(x='PCA1', y='PCA2', kind='scatter', c='r (test)',cmap=cm.coolwarm, edgecolors='black', linewidths=0.3)"
   ]
  },
  {
   "cell_type": "code",
   "execution_count": null,
   "id": "9ba63745",
   "metadata": {
    "scrolled": true
   },
   "outputs": [],
   "source": [
    "# visualisation of the motif with the highest r with the train dataset\n",
    "print('I: Best motif according to r (train) from the repeated optimizations.')\n",
    "print('I: PCA components: %i, %i' %(df_repetitions.iloc[0]['PCA1'], df_repetitions.iloc[0]['PCA2']))\n",
    "model_best_repetition=df_repetitions.iloc[0]['model']\n",
    "model_best_repetition.analyse_motif(X_train,y_train, THRESHOLD, nuc_type=NUC_TYPE) \n",
    "# store results and display stages\n",
    "STAGES.append('best repetition', model_best_repetition, new_entries={'r (test)': mf.linregress(model_best_repetition.predict(X_test),y_test).rvalue})\n",
    "mf.display_df(STAGES.df, nuc_type=NUC_TYPE)"
   ]
  },
  {
   "cell_type": "code",
   "execution_count": null,
   "id": "2004ba6a",
   "metadata": {
    "scrolled": true
   },
   "outputs": [],
   "source": [
    "# refit model to minimize mae\n",
    "last_model=STAGES.df.at[max(STAGES.df.index),'model']\n",
    "refitted_model_best_repetition=model_best_repetition.refit_mae(X_train,y_train)\n",
    "\n",
    "# print & display main results\n",
    "refitted_model_best_repetition.analyse_motif(X_train,y_train, THRESHOLD, nuc_type=NUC_TYPE)\n",
    "\n",
    "# store results and display stages\n",
    "STAGES.append('train, mae optimzed', refitted_model_best_repetition, new_entries={'r (test)': mf.linregress(refitted_model_best_repetition.predict(X_test),y_test).rvalue})\n",
    "mf.display_df(STAGES.df, nuc_type=NUC_TYPE)"
   ]
  },
  {
   "cell_type": "code",
   "execution_count": null,
   "id": "9e69f92c",
   "metadata": {
    "ExecuteTime": {
     "end_time": "2023-01-19T11:53:35.803398Z",
     "start_time": "2023-01-19T11:53:35.093579Z"
    },
    "scrolled": false
   },
   "outputs": [],
   "source": [
    "### Based on the motif of CORE_MOTIF_LENGTH analyze the neigbouring positions \n",
    "### whether their inclusion can improve the quality of the motif\n",
    "df_positions=model_best_repetition.investigate_extension_parallel(X_train,y_train, end5=3, end3=3, nuc_type=NUC_TYPE)\n",
    "\n",
    "list_positions=df_positions.index[df_positions['+2%']].tolist()+[0] # list of positions with an increase of2% and default position 0\n",
    "ext5=-min(list_positions)\n",
    "ext3=max(list_positions)\n",
    "print(\"I: It is suggested to extend the core motif at the 5' end by %i and at the 3' end by %i positions.\" %(ext5, ext3))"
   ]
  },
  {
   "cell_type": "code",
   "execution_count": null,
   "id": "8f41192a",
   "metadata": {},
   "outputs": [],
   "source": [
    "### fit & predict optimization starting with extended energy matrix if extension appears to improve prediction\n",
    "\n",
    "if ext5+ext3!=0: #extension suggestion from previous analysis of the bordering positions\n",
    "    expanded_energies=model_best_repetition.energies_\n",
    "    # append energies of single-optimized bordering positions to energies of central part\n",
    "    if ext5!=0:\n",
    "        energies_5=np.concatenate(df_positions['energies'][(df_positions.index<0) & (df_positions.index>=-ext5)].to_numpy())\n",
    "        expanded_energies=np.concatenate((energies_5, expanded_energies))\n",
    "    if ext3!=0:\n",
    "        energies_3=np.concatenate(df_positions['energies'][(df_positions.index<=ext3) & (df_positions.index>0)].to_numpy().flatten())\n",
    "        expanded_energies=np.concatenate((expanded_energies,  energies_3))\n",
    "\n",
    "    mf.energies2logo(expanded_energies, nuc_type=NUC_TYPE)\n",
    "    print('I: Optimization started with following extended motif.')\n",
    "    expanded_motif_length=len(expanded_energies)//4\n",
    "    \n",
    "    \n",
    "    model_extended=mf.findmotif(motif_length=expanded_motif_length, protein_conc=PROT_CONC, both_strands=BOTH_STRANDS,\n",
    "                   start=expanded_energies, fit_G0=True)\n",
    "\n",
    "    start = time()\n",
    "    model_extended.fit(X_train,y_train)\n",
    "    print(\"Optimization took %.2f hours.\" % ((time() - start)/3600))\n",
    "\n",
    "    # print & display main results\n",
    "    model_extended.analyse_motif(X_train,y_train, THRESHOLD, nuc_type=NUC_TYPE)\n",
    "\n",
    "    # store results and display stages\n",
    "    STAGES.append('train, extended', model_extended, new_entries={'r (test)': mf.linregress(model_extended.predict(X_test),y_test).rvalue})\n",
    "    mf.display_df(STAGES.df, nuc_type=NUC_TYPE)\n",
    "else:\n",
    "    print('I: Motif is not extended based on previous analysis.')"
   ]
  },
  {
   "cell_type": "code",
   "execution_count": null,
   "id": "57bbf894",
   "metadata": {
    "scrolled": false
   },
   "outputs": [],
   "source": [
    "### fit & predict optimization starting with extended energy matrix plus one bordering position on each side if current bordering position exceed the information of 0.25\n",
    "\n",
    "last_model=STAGES.df.at[max(STAGES.df.index),'model']\n",
    "I_5=mf.energies2information(last_model.energies_[0:4])>=0.25 #sufficient information content of 5' end position\n",
    "I_3=mf.energies2information(last_model.energies_[-4:])>=0.25 #sufficient information content of 3' end position\n",
    "\n",
    "if I_5 or I_3:\n",
    "    print('I: At least one of the bordering positions of the current motif has an information content of at least 0.25. Extending.')\n",
    "    expanded_energies_with_border=mf.modify_energies(last_model.energies_, end5=I_5, end3=I_3)  \n",
    "    mf.energies2logo(expanded_energies_with_border, nuc_type=NUC_TYPE)\n",
    "    motif_length_with_border=len(expanded_energies_with_border)//4\n",
    "\n",
    "    model_with_border=mf.findmotif(motif_length=motif_length_with_border, protein_conc=PROT_CONC, both_strands=BOTH_STRANDS,\n",
    "                   start=expanded_energies_with_border, fit_G0=True)\n",
    "\n",
    "\n",
    "    start = time()\n",
    "    model_with_border.fit(X_train,y_train)\n",
    "    print(\"Optimization took %.2f hours.\" % ((time() - start)/3600))\n",
    "\n",
    "    # print & display main results\n",
    "    model_with_border.analyse_motif(X_train,y_train, THRESHOLD, nuc_type=NUC_TYPE)\n",
    "\n",
    "    # store results and display stages\n",
    "    STAGES.append('train, expanded, border', model_with_border, new_entries={'r (test)': mf.linregress(model_with_border.predict(X_test),y_test).rvalue})\n",
    "    mf.display_df(STAGES.df, nuc_type=NUC_TYPE)\n",
    "else:\n",
    "    print('I: Both bordering positions of the found motif have an information content below 0.25. No futher optimization required.')"
   ]
  },
  {
   "cell_type": "code",
   "execution_count": null,
   "id": "e0c3d5ba",
   "metadata": {},
   "outputs": [],
   "source": [
    "last_model=STAGES.df.at[max(STAGES.df.index),'model']\n",
    "df_relevant_positions=last_model.explore_positions(X_train, y_train)\n",
    "list_positions=df_relevant_positions.index[df_relevant_positions['-2%']].tolist() # list of positions with an increase of2% and default position 0\n",
    "start_relevant=min(list_positions)\n",
    "end_relevant=max(list_positions)\n",
    "red5=-start_relevant\n",
    "red3=end_relevant-len(df_relevant_positions)+1\n",
    "print('I: The analysis suggests, that positions between %i to %i contribute significantly to the motif' %(start_relevant, end_relevant))\n",
    "last_model=STAGES.df.at[max(STAGES.df.index),'model']\n",
    "\n",
    "if (end_relevant-start_relevant+1)in STAGES.df['motif length'].to_list():\n",
    "    print('I: No need for a further optimization. An optimization with motif length of %i has already been done.' %(end_relevant-start_relevant+1))\n",
    "    print('I: Checking whether G0 has been chosen correctly.')\n",
    "    last_model.investigate_G0(X_train, y_train)\n",
    "else:\n",
    "    print('I: Bordering positions only marginally contributing towards regression quality are dropped.')\n",
    "    print('I: New start energy for motif optimization:')\n",
    "    start_final_model=mf.modify_energies(last_model.energies_, end5=red5, end3=red3)\n",
    "    mf.energies2logo(start_final_model, nuc_type=NUC_TYPE)\n",
    "    final_model=mf.findmotif(motif_length=len(start_final_model)//4, protein_conc=PROT_CONC, \n",
    "                             both_strands=BOTH_STRANDS, start=start_final_model)\n",
    "\n",
    "    start = time()\n",
    "    final_model.fit(X_train,y_train)\n",
    "    print(\"Optimization took %.2f hours.\" % ((time() - start)/3600))\n",
    "\n",
    "    # print & display main results\n",
    "    final_model.analyse_motif(X_train,y_train, THRESHOLD, nuc_type=NUC_TYPE)\n",
    "    \n",
    "    print('I: Checking whether G0 has been chosen correctly.')\n",
    "    final_model.investigate_G0(X_train, y_train)\n",
    "\n",
    "    # store results and display stages\n",
    "    STAGES.append('train, shrinked', final_model, new_entries={'r (test)': mf.linregress(final_model.predict(X_test),y_test).rvalue})\n",
    "    mf.display_df(STAGES.df, nuc_type=NUC_TYPE)  "
   ]
  },
  {
   "cell_type": "code",
   "execution_count": null,
   "id": "ca3e0da8",
   "metadata": {
    "scrolled": false
   },
   "outputs": [],
   "source": [
    "# refit model to minimize mae\n",
    "last_model=STAGES.df.at[max(STAGES.df.index),'model']\n",
    "refitted_model=last_model.refit_mae(X_train,y_train)\n",
    "\n",
    "# print & display main results\n",
    "refitted_model.analyse_motif(X_train,y_train, THRESHOLD, nuc_type=NUC_TYPE)\n",
    "\n",
    "# store results and display stages\n",
    "STAGES.append('train, mae optimzed', refitted_model, new_entries={'r (test)': mf.linregress(refitted_model.predict(X_test),y_test).rvalue})\n",
    "mf.display_df(STAGES.df, nuc_type=NUC_TYPE)"
   ]
  },
  {
   "cell_type": "code",
   "execution_count": null,
   "id": "8caac799",
   "metadata": {},
   "outputs": [],
   "source": [
    "### finalize model with complete dataset and allow for dissociation\n",
    "last_model=STAGES.df.at[max(STAGES.df.index)-1,'model']  #the last model before mae optimization\n",
    "\n",
    "# fit & predict optimization starting with previous energy matrix\n",
    "model_diss=mf.findmotif(motif_length=len(last_model.energies_)//4, protein_conc=PROT_CONC, both_strands=BOTH_STRANDS,\n",
    "                        start=last_model.energies_,\n",
    "                        time_dissociation=TIME_DISS,\n",
    "                        fit_G0=True,\n",
    "                        max_bind_target=0.1,\n",
    "                        kon=1E5)\n",
    "\n",
    "start = time()\n",
    "model_diss.fit(X_train,y_train)\n",
    "print(\"Optimization took %.2f hours.\" % ((time() - start)/3600))\n",
    "\n",
    "# print & display main results\n",
    "model_diss.analyse_motif(X_train,y_train, THRESHOLD, nuc_type=NUC_TYPE)\n",
    "\n",
    "# store results and display stages\n",
    "STAGES.append('train, diss., 0.1, 1E5, start with no diss.', model_diss, new_entries={'r (test)': mf.linregress(model_diss.predict(X_test),y_test).rvalue})\n",
    "mf.display_df(STAGES.df, nuc_type=NUC_TYPE)"
   ]
  },
  {
   "cell_type": "code",
   "execution_count": null,
   "id": "d05a7ea5",
   "metadata": {},
   "outputs": [],
   "source": [
    "STAGES.df.to_json('%s_%s-%s-%s_%s-%s.json' %(PROTEIN_NAME, datetime.now().year, datetime.now().month,datetime.now().day , datetime.now().hour, datetime.now().minute))"
   ]
  },
  {
   "cell_type": "code",
   "execution_count": null,
   "id": "ac786bf4",
   "metadata": {},
   "outputs": [],
   "source": []
  },
  {
   "cell_type": "code",
   "execution_count": null,
   "id": "0c97427b",
   "metadata": {},
   "outputs": [],
   "source": []
  },
  {
   "cell_type": "code",
   "execution_count": null,
   "id": "eb8a950b",
   "metadata": {},
   "outputs": [],
   "source": []
  },
  {
   "cell_type": "code",
   "execution_count": null,
   "id": "ba95de3b",
   "metadata": {},
   "outputs": [],
   "source": []
  },
  {
   "cell_type": "code",
   "execution_count": null,
   "id": "36e8f0e8",
   "metadata": {
    "scrolled": false
   },
   "outputs": [],
   "source": [
    "### finalize model with complete dataset\n",
    "X=mf.hotencode_sequence(dfprobes['padded_sequence'], nuc_type=NUC_TYPE)\n",
    "y=np.array(dfprobes['signal binding'])\n",
    "\n",
    "### fit & predict optimization starting with previous energy matrix\n",
    "model=mf.findmotif(motif_length=expanded_motif_length, protein_conc=PROT_CONC, both_strands=BOTH_STRANDS,\n",
    "                   start=expanded_energies,\n",
    "                   fit_G0=True)\n",
    "\n",
    "start = time()\n",
    "model.fit(X,y)\n",
    "print(\"Optimization took %.2f hours.\" % ((time() - start)/3600))\n",
    "\n",
    "# print & display main results\n",
    "df_pred, auroc=mf.analyse_motif(model,X,y, THRESHOLD, nuc_type=NUC_TYPE)\n",
    "\n",
    "# store results of stage in df_stages and display stages\n",
    "np.seterr(divide = 'ignore')\n",
    "stage_dict={'stage':'full dataset finalized','protein': PROTEIN_NAME,\n",
    "            '# probes': len(X), 'motif length': model.motif_length, 'r': model.rvalue, 'raw score': -model.raw_score,\n",
    "            'AUROC': auroc, 'G0': model.finalG0_, 'G0 fitted':model.fit_G0,\n",
    "            'ratio': model.binding.max()/model.binding.min(),'max binding': model.binding.max(),\n",
    "            'min binding': model.binding.min(), 'energies': model.energies_, 'model': model}\n",
    "np.seterr(divide = 'warn')\n",
    "df_stages=pd.concat([df_stages, pd.DataFrame(pd.Series(stage_dict)).transpose().set_index('stage')])\n",
    "\n",
    "mf.display_df(df_stages, nuc_type=NUC_TYPE)"
   ]
  }
 ],
 "metadata": {
  "kernelspec": {
   "display_name": "Python 3",
   "language": "python",
   "name": "python3"
  },
  "language_info": {
   "codemirror_mode": {
    "name": "ipython",
    "version": 3
   },
   "file_extension": ".py",
   "mimetype": "text/x-python",
   "name": "python",
   "nbconvert_exporter": "python",
   "pygments_lexer": "ipython3",
   "version": "3.8.10"
  },
  "toc": {
   "base_numbering": 1,
   "nav_menu": {},
   "number_sections": true,
   "sideBar": true,
   "skip_h1_title": false,
   "title_cell": "Table of Contents",
   "title_sidebar": "Contents",
   "toc_cell": false,
   "toc_position": {},
   "toc_section_display": true,
   "toc_window_display": false
  },
  "varInspector": {
   "cols": {
    "lenName": 16,
    "lenType": 16,
    "lenVar": 40
   },
   "kernels_config": {
    "python": {
     "delete_cmd_postfix": "",
     "delete_cmd_prefix": "del ",
     "library": "var_list.py",
     "varRefreshCmd": "print(var_dic_list())"
    },
    "r": {
     "delete_cmd_postfix": ") ",
     "delete_cmd_prefix": "rm(",
     "library": "var_list.r",
     "varRefreshCmd": "cat(var_dic_list()) "
    }
   },
   "types_to_exclude": [
    "module",
    "function",
    "builtin_function_or_method",
    "instance",
    "_Feature"
   ],
   "window_display": false
  }
 },
 "nbformat": 4,
 "nbformat_minor": 5
}
